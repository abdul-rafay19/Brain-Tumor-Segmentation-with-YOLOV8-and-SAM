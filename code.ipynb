{
 "cells": [
  {
   "cell_type": "code",
   "execution_count": 6,
   "id": "75243591",
   "metadata": {},
   "outputs": [
    {
     "name": "stdout",
     "output_type": "stream",
     "text": [
      "Found 1252 patient folders...\n"
     ]
    },
    {
     "name": "stderr",
     "output_type": "stream",
     "text": [
      "100%|██████████| 1252/1252 [21:32<00:00,  1.03s/it] "
     ]
    },
    {
     "name": "stdout",
     "output_type": "stream",
     "text": [
      "Skipping output: Missing T1CE or Seg file.\n"
     ]
    },
    {
     "name": "stderr",
     "output_type": "stream",
     "text": [
      "\n"
     ]
    }
   ],
   "source": [
    "import nibabel as nib\n",
    "import numpy as np\n",
    "import cv2\n",
    "import os\n",
    "from tqdm import tqdm\n",
    "\n",
    "# Path to the extracted BraTS 2021 training data\n",
    "data_root = 'BraTS2021_Training_Data'\n",
    "\n",
    "# Output folders\n",
    "output_img_dir = 'output/images'\n",
    "output_mask_dir = 'output/masks'\n",
    "\n",
    "# Make sure output directories exist\n",
    "os.makedirs(output_img_dir, exist_ok=True)\n",
    "os.makedirs(output_mask_dir, exist_ok=True)\n",
    "\n",
    "# List of patient directories\n",
    "patient_dirs = [d for d in os.listdir(data_root) if os.path.isdir(os.path.join(data_root, d))]\n",
    "\n",
    "print(f\"Found {len(patient_dirs)} patient folders...\")\n",
    "\n",
    "# Loop through each patient\n",
    "for patient in tqdm(patient_dirs):\n",
    "    try:\n",
    "        patient_path = os.path.join(data_root, patient)\n",
    "\n",
    "        # Paths to T1CE scan and segmentation mask\n",
    "        t1ce_file = [f for f in os.listdir(patient_path) if \"_t1ce.nii.gz\" in f]\n",
    "        seg_file = [f for f in os.listdir(patient_path) if \"_seg.nii.gz\" in f]\n",
    "\n",
    "        if not t1ce_file or not seg_file:\n",
    "            print(f\"Skipping {patient}: Missing T1CE or Seg file.\")\n",
    "            continue\n",
    "\n",
    "        t1ce_path = os.path.join(patient_path, t1ce_file[0])\n",
    "        seg_path = os.path.join(patient_path, seg_file[0])\n",
    "\n",
    "        # Load 3D image and mask volumes\n",
    "        img_3d = nib.load(t1ce_path).get_fdata()\n",
    "        seg_3d = nib.load(seg_path).get_fdata()\n",
    "\n",
    "        for i in range(img_3d.shape[2]):  # Loop through axial slices\n",
    "            img_slice = img_3d[:, :, i]\n",
    "            mask_slice = seg_3d[:, :, i]\n",
    "\n",
    "            # Skip slices without tumors\n",
    "            if np.max(mask_slice) == 0:\n",
    "                continue\n",
    "\n",
    "            # Normalize image to 0-255 and convert to uint8\n",
    "            img_slice = cv2.normalize(img_slice, None, 0, 255, cv2.NORM_MINMAX)\n",
    "            img_slice = img_slice.astype(np.uint8)\n",
    "\n",
    "            # Convert mask to binary: tumor vs background\n",
    "            mask_slice = (mask_slice > 0).astype(np.uint8) * 255\n",
    "\n",
    "            # Output filenames\n",
    "            img_filename = os.path.join(output_img_dir, f\"{patient}_slice_{i}.png\")\n",
    "            mask_filename = os.path.join(output_mask_dir, f\"{patient}_slice_{i}.png\")\n",
    "\n",
    "            # Save slices\n",
    "            cv2.imwrite(img_filename, img_slice)\n",
    "            cv2.imwrite(mask_filename, mask_slice)\n",
    "\n",
    "    except Exception as e:\n",
    "        print(f\"❌ Error processing {patient}: {e}\")\n"
   ]
  },
  {
   "cell_type": "code",
   "execution_count": 1,
   "id": "385fd829",
   "metadata": {},
   "outputs": [
    {
     "name": "stderr",
     "output_type": "stream",
     "text": [
      "100%|██████████| 81437/81437 [1:13:42<00:00, 18.42it/s]  \n"
     ]
    }
   ],
   "source": [
    "import os\n",
    "import cv2\n",
    "import numpy as np\n",
    "from tqdm import tqdm\n",
    "\n",
    "image_dir = 'output/images'\n",
    "mask_dir = 'output/masks'\n",
    "label_dir = 'output/labels'\n",
    "\n",
    "os.makedirs(label_dir, exist_ok=True)\n",
    "\n",
    "image_files = sorted(os.listdir(image_dir))\n",
    "\n",
    "for img_file in tqdm(image_files):\n",
    "    img_path = os.path.join(image_dir, img_file)\n",
    "    mask_path = os.path.join(mask_dir, img_file)\n",
    "    label_path = os.path.join(label_dir, img_file.replace('.png', '.txt'))\n",
    "\n",
    "    img = cv2.imread(img_path)\n",
    "    mask = cv2.imread(mask_path, 0)\n",
    "\n",
    "    height, width = mask.shape\n",
    "\n",
    "    # Find contours (objects) in the mask\n",
    "    contours, _ = cv2.findContours(mask, cv2.RETR_EXTERNAL, cv2.CHAIN_APPROX_SIMPLE)\n",
    "\n",
    "    with open(label_path, 'w') as f:\n",
    "        for contour in contours:\n",
    "            x, y, w, h = cv2.boundingRect(contour)\n",
    "\n",
    "            # YOLO format: class x_center y_center width height (all normalized)\n",
    "            x_center = (x + w / 2) / width\n",
    "            y_center = (y + h / 2) / height\n",
    "            norm_w = w / width\n",
    "            norm_h = h / height\n",
    "\n",
    "            # Write only if bbox is valid (non-zero area)\n",
    "            if w > 0 and h > 0:\n",
    "                f.write(f\"0 {x_center:.6f} {y_center:.6f} {norm_w:.6f} {norm_h:.6f}\\n\")\n"
   ]
  },
  {
   "cell_type": "code",
   "execution_count": 3,
   "id": "6c6011c4",
   "metadata": {},
   "outputs": [
    {
     "name": "stdout",
     "output_type": "stream",
     "text": [
      "✅ Dataset split into training and validation sets.\n"
     ]
    }
   ],
   "source": [
    "import os\n",
    "import shutil\n",
    "import random\n",
    "\n",
    "# Define source and target directories\n",
    "image_dir = 'output/images'\n",
    "label_dir = 'output/labels'\n",
    "base_dir = 'yolo_brain_dataset'\n",
    "\n",
    "# Output folders\n",
    "train_img = os.path.join(base_dir, 'images/train')\n",
    "val_img = os.path.join(base_dir, 'images/val')\n",
    "train_lbl = os.path.join(base_dir, 'labels/train')\n",
    "val_lbl = os.path.join(base_dir, 'labels/val')\n",
    "\n",
    "# Create target directories\n",
    "os.makedirs(train_img, exist_ok=True)\n",
    "os.makedirs(val_img, exist_ok=True)\n",
    "os.makedirs(train_lbl, exist_ok=True)\n",
    "os.makedirs(val_lbl, exist_ok=True)\n",
    "\n",
    "# Collect all images\n",
    "all_images = [f for f in os.listdir(image_dir) if f.endswith('.png')]\n",
    "random.shuffle(all_images)\n",
    "\n",
    "# 80-20 split\n",
    "split = int(0.8 * len(all_images))\n",
    "train_files = all_images[:split]\n",
    "val_files = all_images[split:]\n",
    "\n",
    "# Move train files\n",
    "for file in train_files:\n",
    "    shutil.copy(os.path.join(image_dir, file), train_img)\n",
    "    label_file = file.replace('.png', '.txt')\n",
    "    shutil.copy(os.path.join(label_dir, label_file), train_lbl)\n",
    "\n",
    "# Move val files\n",
    "for file in val_files:\n",
    "    shutil.copy(os.path.join(image_dir, file), val_img)\n",
    "    label_file = file.replace('.png', '.txt')\n",
    "    shutil.copy(os.path.join(label_dir, label_file), val_lbl)\n",
    "\n",
    "print(\"✅ Dataset split into training and validation sets.\")\n"
   ]
  },
  {
   "cell_type": "code",
   "execution_count": 4,
   "id": "66e39d33",
   "metadata": {},
   "outputs": [
    {
     "name": "stdout",
     "output_type": "stream",
     "text": [
      "✅ data.yaml created.\n"
     ]
    }
   ],
   "source": [
    "yaml_path = os.path.join(base_dir, 'data.yaml')\n",
    "with open(yaml_path, 'w') as f:\n",
    "    f.write(\"\"\"train: images/train\n",
    "val: images/val\n",
    "\n",
    "nc: 1\n",
    "names: ['tumor']\n",
    "\"\"\")\n",
    "\n",
    "print(\"✅ data.yaml created.\")\n"
   ]
  },
  {
   "cell_type": "code",
   "execution_count": null,
   "id": "cc3c7665",
   "metadata": {},
   "outputs": [],
   "source": []
  }
 ],
 "metadata": {
  "kernelspec": {
   "display_name": "Python 3",
   "language": "python",
   "name": "python3"
  },
  "language_info": {
   "codemirror_mode": {
    "name": "ipython",
    "version": 3
   },
   "file_extension": ".py",
   "mimetype": "text/x-python",
   "name": "python",
   "nbconvert_exporter": "python",
   "pygments_lexer": "ipython3",
   "version": "3.10.11"
  }
 },
 "nbformat": 4,
 "nbformat_minor": 5
}
